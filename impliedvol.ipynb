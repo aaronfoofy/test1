{
  "nbformat": 4,
  "nbformat_minor": 0,
  "metadata": {
    "anaconda-cloud": {},
    "kernelspec": {
      "display_name": "Python 3",
      "language": "python",
      "name": "python3"
    },
    "language_info": {
      "codemirror_mode": {
        "name": "ipython",
        "version": 3
      },
      "file_extension": ".py",
      "mimetype": "text/x-python",
      "name": "python",
      "nbconvert_exporter": "python",
      "pygments_lexer": "ipython3",
      "version": "3.7.5rc1"
    },
    "colab": {
      "name": "impliedvol.ipynb",
      "provenance": [],
      "include_colab_link": true
    }
  },
  "cells": [
    {
      "cell_type": "markdown",
      "metadata": {
        "id": "view-in-github",
        "colab_type": "text"
      },
      "source": [
        "<a href=\"https://colab.research.google.com/github/aaronfoofy/test1/blob/master/impliedvol.ipynb\" target=\"_parent\"><img src=\"https://colab.research.google.com/assets/colab-badge.svg\" alt=\"Open In Colab\"/></a>"
      ]
    },
    {
      "cell_type": "code",
      "metadata": {
        "id": "357laL-qKmKm"
      },
      "source": [
        "from IPython.core.display import display, HTML\n",
        "display(HTML(\"\"\"<a href=\"https://personal.ntu.edu.sg/nprivault/indext.html\">https://personal.ntu.edu.sg/nprivault/indext.html</a>\"\"\"))"
      ],
      "execution_count": null,
      "outputs": []
    },
    {
      "cell_type": "code",
      "metadata": {
        "collapsed": true,
        "id": "AJU62aJ4KmKo"
      },
      "source": [
        "import numpy as np\n",
        "import scipy.stats as ss\n",
        "import time \n",
        "\n",
        "#Black and Scholes\n",
        "def d1(S0, K, r, sigma, T):\n",
        "    return (np.log(S0/K) + (r + sigma**2 / 2) * T)/(sigma * np.sqrt(T))\n",
        " \n",
        "def d2(S0, K, r, sigma, T):\n",
        "    return (np.log(S0 / K) + (r - sigma**2 / 2) * T) / (sigma * np.sqrt(T))\n",
        " \n",
        "def BlackScholes(type,S0, K, r, sigma, T):\n",
        "    if type==\"C\":\n",
        "        return S0 * ss.norm.cdf(d1(S0, K, r, sigma, T)) - K * np.exp(-r * T) * ss.norm.cdf(d2(S0, K, r, sigma, T))\n",
        "    else:\n",
        "        return K * np.exp(-r * T) * ss.norm.cdf(-d2(S0, K, r, sigma, T)) - S0 * ss.norm.cdf(-d1(S0, K, r, sigma, T))"
      ],
      "execution_count": null,
      "outputs": []
    },
    {
      "cell_type": "code",
      "metadata": {
        "id": "4Tqh-KkjKmKo"
      },
      "source": [
        "BlackScholes(\"C\",100.0, 120.0, 0.02, 0.15, 1.0)"
      ],
      "execution_count": null,
      "outputs": []
    },
    {
      "cell_type": "code",
      "metadata": {
        "id": "rEbomdVnKmKp"
      },
      "source": [
        "def difference(x, p, S, K, r, t):\n",
        "    return BlackScholes(\"C\",S, K, r, x, t) - p"
      ],
      "execution_count": null,
      "outputs": []
    },
    {
      "cell_type": "code",
      "metadata": {
        "id": "LDV9F11pKmKp"
      },
      "source": [
        "from scipy.optimize import bisect\n",
        "bisect(difference,0.001,1,args=(1.1541763731112766, 100.0, 120.0, 0.02, 1.0))"
      ],
      "execution_count": null,
      "outputs": []
    }
  ]
}